{
 "cells": [
  {
   "cell_type": "code",
   "execution_count": 1,
   "id": "909336ac",
   "metadata": {},
   "outputs": [],
   "source": [
    "import random"
   ]
  },
  {
   "cell_type": "code",
   "execution_count": 2,
   "id": "5b7a2f51",
   "metadata": {},
   "outputs": [],
   "source": [
    "def generate_random_number():\n",
    "    return random.randint(1,100000) "
   ]
  },
  {
   "cell_type": "code",
   "execution_count": 3,
   "id": "9329d8e9",
   "metadata": {},
   "outputs": [],
   "source": [
    "def get_player_guess():\n",
    "    guess = int(input('Now  put guessed a number.'))\n",
    "    return guess"
   ]
  },
  {
   "cell_type": "code",
   "execution_count": 4,
   "id": "d87c36ae",
   "metadata": {},
   "outputs": [],
   "source": [
    "def verify_guess(guess,number):\n",
    "    if guess == number:\n",
    "        return True\n",
    "    else:\n",
    "        return False\n",
    "    "
   ]
  },
  {
   "cell_type": "code",
   "execution_count": 5,
   "id": "d382c89c",
   "metadata": {},
   "outputs": [],
   "source": [
    "def main():\n",
    "    number = generate_random_number()\n",
    "    guess = get_player_guess()\n",
    "    if verify_guess(guess,number):\n",
    "        print ('You guessed correctly!')\n",
    "    else:\n",
    "        print ('You guessed incorrectly. The number was {}.'.format(number))"
   ]
  },
  {
   "cell_type": "code",
   "execution_count": 6,
   "id": "f4441f41",
   "metadata": {},
   "outputs": [
    {
     "name": "stdout",
     "output_type": "stream",
     "text": [
      "Would you like to play again? (y/n) y\n",
      "Now  put guessed a number.2\n",
      "You guessed incorrectly. The number was 1937.\n"
     ]
    }
   ],
   "source": [
    "play_again = input(\"Would you like to play again? (y/n) \")\n",
    "if play_again == \"y\":\n",
    "    main()"
   ]
  },
  {
   "cell_type": "code",
   "execution_count": 7,
   "id": "5b39fa2e",
   "metadata": {},
   "outputs": [
    {
     "name": "stdout",
     "output_type": "stream",
     "text": [
      "Now  put guessed a number.24354\n",
      "You guessed incorrectly. The number was 37170.\n"
     ]
    }
   ],
   "source": [
    "if __name__ == \"__main__\":\n",
    "    main()\n",
    "    "
   ]
  },
  {
   "cell_type": "code",
   "execution_count": null,
   "id": "20562404",
   "metadata": {},
   "outputs": [],
   "source": []
  }
 ],
 "metadata": {
  "kernelspec": {
   "display_name": "Python 3 (ipykernel)",
   "language": "python",
   "name": "python3"
  },
  "language_info": {
   "codemirror_mode": {
    "name": "ipython",
    "version": 3
   },
   "file_extension": ".py",
   "mimetype": "text/x-python",
   "name": "python",
   "nbconvert_exporter": "python",
   "pygments_lexer": "ipython3",
   "version": "3.9.13"
  }
 },
 "nbformat": 4,
 "nbformat_minor": 5
}
