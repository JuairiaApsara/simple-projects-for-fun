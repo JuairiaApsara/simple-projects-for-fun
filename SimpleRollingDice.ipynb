{
 "cells": [
  {
   "cell_type": "code",
   "execution_count": 1,
   "id": "eefe6707",
   "metadata": {},
   "outputs": [],
   "source": [
    "import random"
   ]
  },
  {
   "cell_type": "code",
   "execution_count": 2,
   "id": "62aac4e5",
   "metadata": {},
   "outputs": [],
   "source": [
    "def roll_dice():\n",
    "  #Generates a random number between 1 and 6.\n",
    "  return random.randint int(inpu(1,6)"
   ]
  },
  {
   "cell_type": "code",
   "execution_count": 3,
   "id": "1c0119bb",
   "metadata": {},
   "outputs": [
    {
     "name": "stdout",
     "output_type": "stream",
     "text": [
      "Rolling the dice...\n"
     ]
    }
   ],
   "source": [
    "print(\"Rolling the dice...\")"
   ]
  },
  {
   "cell_type": "code",
   "execution_count": 4,
   "id": "52cd6d1e",
   "metadata": {},
   "outputs": [
    {
     "name": "stdout",
     "output_type": "stream",
     "text": [
      "The dice rolled a 4.\n"
     ]
    }
   ],
   "source": [
    "result = roll_dice()\n",
    "print(\"The dice rolled a {}.\".format(result))"
   ]
  }
 ],
 "metadata": {
  "kernelspec": {
   "display_name": "Python 3 (ipykernel)",
   "language": "python",
   "name": "python3"
  },
  "language_info": {
   "codemirror_mode": {
    "name": "ipython",
    "version": 3
   },
   "file_extension": ".py",
   "mimetype": "text/x-python",
   "name": "python",
   "nbconvert_exporter": "python",
   "pygments_lexer": "ipython3",
   "version": "3.9.13"
  }
 },
 "nbformat": 4,
 "nbformat_minor": 5
}
