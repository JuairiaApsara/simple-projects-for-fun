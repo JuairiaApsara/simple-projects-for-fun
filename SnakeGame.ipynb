{
 "cells": [
  {
   "cell_type": "code",
   "execution_count": 1,
   "id": "ccc9d767",
   "metadata": {},
   "outputs": [
    {
     "name": "stdout",
     "output_type": "stream",
     "text": [
      "pygame 2.4.0 (SDL 2.26.4, Python 3.9.13)\n",
      "Hello from the pygame community. https://www.pygame.org/contribute.html\n"
     ]
    },
    {
     "data": {
      "text/plain": [
       "(5, 0)"
      ]
     },
     "execution_count": 1,
     "metadata": {},
     "output_type": "execute_result"
    }
   ],
   "source": [
    "import pygame\n",
    "import random\n",
    "\n",
    "pygame.init()"
   ]
  },
  {
   "cell_type": "code",
   "execution_count": 2,
   "id": "ccea4b11",
   "metadata": {},
   "outputs": [],
   "source": [
    "white = (255, 255, 255)"
   ]
  },
  {
   "cell_type": "code",
   "execution_count": 3,
   "id": "5fbec7ae",
   "metadata": {},
   "outputs": [],
   "source": [
    "yellow = (255, 255, 102)"
   ]
  },
  {
   "cell_type": "code",
   "execution_count": 4,
   "id": "7b49cb09",
   "metadata": {},
   "outputs": [],
   "source": [
    "black = (0, 0, 0)"
   ]
  },
  {
   "cell_type": "code",
   "execution_count": 5,
   "id": "68480db5",
   "metadata": {},
   "outputs": [],
   "source": [
    "red = (213, 50, 80)"
   ]
  },
  {
   "cell_type": "code",
   "execution_count": 6,
   "id": "e7c2d62b",
   "metadata": {},
   "outputs": [],
   "source": [
    "green = (0, 255, 0)"
   ]
  },
  {
   "cell_type": "code",
   "execution_count": 7,
   "id": "4a76ed82",
   "metadata": {},
   "outputs": [],
   "source": [
    "blue = (50, 153, 213)"
   ]
  },
  {
   "cell_type": "code",
   "execution_count": 8,
   "id": "1e2d373c",
   "metadata": {},
   "outputs": [],
   "source": [
    "disp_width = 600"
   ]
  },
  {
   "cell_type": "code",
   "execution_count": 9,
   "id": "55803ab0",
   "metadata": {},
   "outputs": [],
   "source": [
    "disp_height = 400"
   ]
  },
  {
   "cell_type": "code",
   "execution_count": 10,
   "id": "47923f2f",
   "metadata": {},
   "outputs": [],
   "source": [
    "dis = pygame.display.set_mode((disp_width, disp_height))"
   ]
  },
  {
   "cell_type": "code",
   "execution_count": 11,
   "id": "b4c49365",
   "metadata": {},
   "outputs": [],
   "source": [
    "pygame.display.set_caption('SnakeGame')"
   ]
  },
  {
   "cell_type": "code",
   "execution_count": 12,
   "id": "3a7e5025",
   "metadata": {},
   "outputs": [],
   "source": [
    "clock = pygame.time.Clock()"
   ]
  },
  {
   "cell_type": "code",
   "execution_count": 13,
   "id": "65e8a767",
   "metadata": {},
   "outputs": [],
   "source": [
    "snake_block = 10"
   ]
  },
  {
   "cell_type": "code",
   "execution_count": 14,
   "id": "0487e335",
   "metadata": {},
   "outputs": [],
   "source": [
    "snake_speed = 25"
   ]
  },
  {
   "cell_type": "code",
   "execution_count": 15,
   "id": "03819a3f",
   "metadata": {},
   "outputs": [],
   "source": [
    "font_style = pygame.font.SysFont(\"bahnschrift\", 25)"
   ]
  },
  {
   "cell_type": "code",
   "execution_count": 16,
   "id": "b74edea7",
   "metadata": {},
   "outputs": [],
   "source": [
    "score_font = pygame.font.SysFont(\"comicsansms\", 35)"
   ]
  },
  {
   "cell_type": "code",
   "execution_count": 17,
   "id": "9e9a40b3",
   "metadata": {},
   "outputs": [],
   "source": [
    "def Your_score(score):\n",
    "    value = score_font.render(\"Your Score: \" + str(score), True, yellow)\n",
    "    dis.blit(value, [0, 0])"
   ]
  },
  {
   "cell_type": "code",
   "execution_count": 18,
   "id": "b8ec67a1",
   "metadata": {},
   "outputs": [],
   "source": [
    "def our_snake(snake_block, snake_list):\n",
    "    for x in snake_list:\n",
    "        pygame.draw.rect(dis, black, [x[0], x[1], snake_block, snake_block])"
   ]
  },
  {
   "cell_type": "code",
   "execution_count": 19,
   "id": "1e49a952",
   "metadata": {},
   "outputs": [],
   "source": [
    "def message(msg, color):\n",
    "    mesg = font_style.render(msg, True, color)\n",
    "    dis.blit(mesg, [disp_width / 6, disp_height / 3])"
   ]
  },
  {
   "cell_type": "code",
   "execution_count": null,
   "id": "929a14d1",
   "metadata": {},
   "outputs": [],
   "source": [
    "def gameLoop():\n",
    "    game_over = False\n",
    "    game_close = False\n",
    " \n",
    "    x1 = disp_width / 2\n",
    "    y1 = disp_height / 2\n",
    " \n",
    "    x1_change = 0\n",
    "    y1_change = 0\n",
    " \n",
    "    snake_List = []\n",
    "    Length_of_snake = 1\n",
    " \n",
    "    foodx = round(random.randrange(0, disp_width - snake_block) / 10.0) * 10.0\n",
    "    foody = round(random.randrange(0, disp_height - snake_block) / 10.0) * 10.0\n",
    " \n",
    "    while not game_over:\n",
    " \n",
    "        while game_close == True:\n",
    "            dis.fill(blue)\n",
    "            message(\"You Lost! Press C-Play Again or Q-Quit\", red)\n",
    "            Your_score(Length_of_snake - 1)\n",
    "            pygame.display.update()\n",
    " \n",
    "            for event in pygame.event.get():\n",
    "                if event.type == pygame.KEYDOWN:\n",
    "                    if event.key == pygame.K_q:\n",
    "                        game_over = True\n",
    "                        game_close = False\n",
    "                    if event.key == pygame.K_c:\n",
    "                        gameLoop()\n",
    " \n",
    "        for event in pygame.event.get():\n",
    "            if event.type == pygame.QUIT:\n",
    "                game_over = True\n",
    "            if event.type == pygame.KEYDOWN:\n",
    "                if event.key == pygame.K_LEFT:\n",
    "                    x1_change = -snake_block\n",
    "                    y1_change = 0\n",
    "                elif event.key == pygame.K_RIGHT:\n",
    "                    x1_change = snake_block\n",
    "                    y1_change = 0\n",
    "                elif event.key == pygame.K_UP:\n",
    "                    y1_change = -snake_block\n",
    "                    x1_change = 0\n",
    "                elif event.key == pygame.K_DOWN:\n",
    "                    y1_change = snake_block\n",
    "                    x1_change = 0\n",
    " \n",
    "        if x1 >= disp_width or x1 < 0 or y1 >= disp_height or y1 < 0:\n",
    "            game_close = True\n",
    "        x1 += x1_change\n",
    "        y1 += y1_change\n",
    "        dis.fill(blue)\n",
    "        pygame.draw.rect(dis, green, [foodx, foody, snake_block, snake_block])\n",
    "        snake_Head = []\n",
    "        snake_Head.append(x1)\n",
    "        snake_Head.append(y1)\n",
    "        snake_List.append(snake_Head)\n",
    "        if len(snake_List) > Length_of_snake:\n",
    "            del snake_List[0]\n",
    " \n",
    "        for x in snake_List[:-1]:\n",
    "            if x == snake_Head:\n",
    "                game_close = True\n",
    " \n",
    "        our_snake(snake_block, snake_List)\n",
    "        Your_score(Length_of_snake - 1)\n",
    " \n",
    "        pygame.display.update()\n",
    " \n",
    "        if x1 == foodx and y1 == foody:\n",
    "            foodx = round(random.randrange(0, disp_width - snake_block) / 10.0) * 10.0\n",
    "            foody = round(random.randrange(0, disp_height - snake_block) / 10.0) * 10.0\n",
    "            Length_of_snake += 1\n",
    " \n",
    "        clock.tick(snake_speed)\n",
    " \n",
    "    pygame.quit()\n",
    "    quit()\n",
    " \n",
    " \n",
    "gameLoop()"
   ]
  },
  {
   "cell_type": "code",
   "execution_count": null,
   "id": "2773f6d2",
   "metadata": {},
   "outputs": [],
   "source": []
  },
  {
   "cell_type": "code",
   "execution_count": null,
   "id": "2efcfef4",
   "metadata": {},
   "outputs": [],
   "source": []
  }
 ],
 "metadata": {
  "kernelspec": {
   "display_name": "Python 3 (ipykernel)",
   "language": "python",
   "name": "python3"
  },
  "language_info": {
   "codemirror_mode": {
    "name": "ipython",
    "version": 3
   },
   "file_extension": ".py",
   "mimetype": "text/x-python",
   "name": "python",
   "nbconvert_exporter": "python",
   "pygments_lexer": "ipython3",
   "version": "3.9.13"
  }
 },
 "nbformat": 4,
 "nbformat_minor": 5
}
